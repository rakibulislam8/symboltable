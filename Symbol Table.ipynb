{
 "cells": [
  {
   "cell_type": "code",
   "execution_count": 9,
   "metadata": {},
   "outputs": [
    {
     "data": {
      "text/plain": [
       "'\\nLexical Analyser\\n\\nRakibul Islam\\nId :151-15-5131\\n'"
      ]
     },
     "execution_count": 9,
     "metadata": {},
     "output_type": "execute_result"
    }
   ],
   "source": [
    "\"\"\"\n",
    "Lexical Analyser\n",
    "\n",
    "Rakibul Islam\n",
    "Id :151-15-5131\n",
    "\"\"\""
   ]
  },
  {
   "cell_type": "code",
   "execution_count": 2,
   "metadata": {
    "collapsed": true
   },
   "outputs": [],
   "source": [
    "Input = \"\"\"\n",
    "int a , b , c ;\n",
    "float d , e ;\n",
    "a = b = 5 ;\n",
    "c = 6 ;\n",
    "if ( a > b )\n",
    "{\n",
    "    c = a - b ;\n",
    "    e = d - 2.0 ;for x in symbol_table(file):\n",
    "        print (x,':',symbol_table(file)[x]) \n",
    "}\n",
    "else\n",
    "{\n",
    "    d = e + 6.0 ;\n",
    "    b = a + c ;\n",
    "}\n",
    "\"\"\""
   ]
  },
  {
   "cell_type": "code",
   "execution_count": 3,
   "metadata": {
    "collapsed": true
   },
   "outputs": [],
   "source": [
    "def lexical_analyzer(file): \n",
    "    \n",
    "    return Input.split()"
   ]
  },
  {
   "cell_type": "code",
   "execution_count": 4,
   "metadata": {
    "collapsed": true
   },
   "outputs": [],
   "source": [
    "def symbol_table (inputs):\n",
    "   \n",
    "    k = []\n",
    "    m = []\n",
    "    l = []\n",
    "    b = []\n",
    "    o = []\n",
    "    n = []\n",
    "    i = []\n",
    "    f = []\n",
    "    \n",
    "    for data in inputs:\n",
    "        if data in keyword: \n",
    "            if data not in k:    \n",
    "                k.append(data)\n",
    "        elif data in math_oprator:\n",
    "            if data not in m:\n",
    "                m.append(data)\n",
    "        elif data in logical:\n",
    "            if data not in l:\n",
    "                l.append(data)\n",
    "        elif data in bitwise:\n",
    "            if data not in b:\n",
    "                b.append(data)\n",
    "        elif data in other:\n",
    "            if data not in o:\n",
    "                o.append(data)\n",
    "        else:\n",
    "            try:\n",
    "                num = int(data)\n",
    "                if num not in n:\n",
    "                    n.append(num)\n",
    "            except:\n",
    "                try:\n",
    "                    num = float(data)\n",
    "                    if num not in f:\n",
    "                        f.append(num)\n",
    "                except:\n",
    "                    if data not in i:\n",
    "                        i.append(data)\n",
    "    \n",
    "    outputs = {\n",
    "        'Keywords': k,\n",
    "        'Identifiers' : i,\n",
    "        'Math Operators' : m,\n",
    "        'Logical Operators' : l + b,\n",
    "        'Numerical Values' : n + f,\n",
    "        'Others' : o\n",
    "    }\n",
    "    \n",
    "    return outputs"
   ]
  },
  {
   "cell_type": "code",
   "execution_count": 8,
   "metadata": {},
   "outputs": [
    {
     "name": "stdout",
     "output_type": "stream",
     "text": [
      "Keywords : []\n",
      "Identifiers : ['\\n', 'i', 'n', 't', ' ', 'a', 'b', 'c', 'f', 'l', 'o', 'd', 'e', '.', 'r', 'x', 's', 'y', 'm', '_', ':', 'p', \"'\"]\n",
      "Math Operators : ['=', '-', '+']\n",
      "Logical Operators : ['>']\n",
      "Numerical Values : [5, 6, 2, 0]\n",
      "Others : [',', ';', '(', ')', '{', '[', ']', '}']\n"
     ]
    }
   ],
   "source": [
    "for x in symbol_table(file):\n",
    "        print (x,':',symbol_table(file)[x])"
   ]
  },
  {
   "cell_type": "code",
   "execution_count": null,
   "metadata": {
    "collapsed": true
   },
   "outputs": [],
   "source": []
  }
 ],
 "metadata": {
  "kernelspec": {
   "display_name": "Python 3",
   "language": "python",
   "name": "python3"
  },
  "language_info": {
   "codemirror_mode": {
    "name": "ipython",
    "version": 3
   },
   "file_extension": ".py",
   "mimetype": "text/x-python",
   "name": "python",
   "nbconvert_exporter": "python",
   "pygments_lexer": "ipython3",
   "version": "3.6.3"
  }
 },
 "nbformat": 4,
 "nbformat_minor": 2
}
